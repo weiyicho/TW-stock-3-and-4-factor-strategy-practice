{
 "cells": [
  {
   "cell_type": "code",
   "execution_count": null,
   "metadata": {},
   "outputs": [],
   "source": [
    "import selenium\n",
    "import requests\n",
    "from bs4 import BeautifulSoup"
   ]
  },
  {
   "cell_type": "code",
   "execution_count": null,
   "metadata": {},
   "outputs": [],
   "source": [
    "def tpex_header():\n",
    "    return {\n",
    "        \"User-Agent\": \"Mozilla/5.0\",\n",
    "        \"Content-Type\": \"application/x-www-form-urlencoded\",\n",
    "        \"Referer\": \"https://mopsov.twse.com.tw/mops/web/t163sb04\"  # Often helps\n",
    "    }\n",
    "\n",
    "payload = {\n",
    "    \"step\": \"1\",\n",
    "    \"firstin\": \"1\",\n",
    "    \"off\": \"1\",\n",
    "    \"co_id\": \"2330\",         # if needed\n",
    "    \"year\": \"108\",\n",
    "    \"season\": \"1\",\n",
    "    \"TYPEK\": \"all\",\n",
    "    \"queryName\": \"co_id\",    # if needed\n",
    "    \"isnew\": \"false\"         # if needed\n",
    "}\n",
    "\n"
   ]
  },
  {
   "cell_type": "code",
   "execution_count": null,
   "metadata": {},
   "outputs": [],
   "source": [
    "url = \"https://mopsov.twse.com.tw/mops/web/t163sb04\"\n",
    "response = requests.post(url, headers=tpex_header(), data=payload)\n"
   ]
  }
 ],
 "metadata": {
  "language_info": {
   "name": "python"
  }
 },
 "nbformat": 4,
 "nbformat_minor": 2
}
